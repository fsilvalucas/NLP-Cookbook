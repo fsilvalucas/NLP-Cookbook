{
 "cells": [
  {
   "cell_type": "markdown",
   "id": "14b1140d",
   "metadata": {},
   "source": [
    "# Regex"
   ]
  },
  {
   "cell_type": "markdown",
   "id": "c130ccf7",
   "metadata": {},
   "source": [
    "A regular Expression (shortened as Regex or Regexp) is a sequence of characters that specifies a search pattern is a text.\n",
    "- It's particularly usefull when you have to search a pattern in a Corpus of texts. \n",
    "- A Regex function will search de Corpus and return all Matches.\n",
    "- The Corpus can be a document, phrase or a collection."
   ]
  },
  {
   "cell_type": "code",
   "execution_count": 22,
   "id": "645ea690",
   "metadata": {},
   "outputs": [
    {
     "name": "stdout",
     "output_type": "stream",
     "text": [
      "match1 is a None object:  True\n",
      "match2 email found:  nome@domain.topleveldomain\n"
     ]
    }
   ],
   "source": [
    "import re\n",
    "\n",
    "# re.compile() will create a regex object with a pattern that you defined.\n",
    "pattern = r'([A-Za-z0-9]+[.-_])*[A-Za-z0-9]+@[A-Za-z0-9-]+(\\.[A-Z|a-z]{2,})+'\n",
    "email_regex = re.compile(pattern)\n",
    "\n",
    "# The search method from the regex object that we created returns None if that pattern wasn't found.\n",
    "# If the pattern is found, this method returns a Match object.\n",
    "# Match objects have a group() method that returns the text that matched before.\n",
    "\n",
    "text1 = \"this is not a valid email: @false.com_email\"\n",
    "text2 = \"this is a valid email: nome@domain.topleveldomain\"\n",
    "\n",
    "match1 = email_regex.search(text1)\n",
    "match2 = email_regex.search(text2)\n",
    "\n",
    "print(\"match1 is a None object: \", match1 is None)\n",
    "print(\"match2 email found: \", match2.group())\n"
   ]
  },
  {
   "cell_type": "markdown",
   "id": "ef611a6d",
   "metadata": {},
   "source": [
    "## Basics"
   ]
  },
  {
   "cell_type": "markdown",
   "id": "cf2344a7",
   "metadata": {},
   "source": [
    "Character inside square brackets means a disjunction for characters search. For example:\n",
    "\n",
    "- Pattern: [bB]rasil -> Match: Brasil, brasil\n",
    "- Pattern: [0123456789] -> Match: Any digit (but only 1)\n",
    "\n",
    "We can also use a '-' to define a interval, for example:\n",
    "\n",
    "- Pattern: [0-9] -> Match: Any digit (but only 1)\n",
    "- Pattern: [a-z] -> Match: one 'lower' character.\n",
    "- Pattern: [A-Z] -> Match: one 'upper' character.\n",
    "\n",
    "We can also user a '^' to deny a disjunction, for example:\n",
    "\n",
    "- Pattern: [^A-Z] -> Match: one but not 'upper' character, same as [a-z]\n",
    "- Pattern: [^Aa]  -> Match: First character not A neither a.\n",
    "\n",
    "It's importante to note that negation just happens when you use '^' as the first thing inside square brackets.\n",
    "\n",
    "- Pattern: [a^b] -> Match: The pattern 'a^b'\n",
    "\n",
    "We can also user '|' to define a OR relationship:\n",
    "\n",
    "- Pattern: a|b|c -> Match: = [abc]\n",
    "\n",
    "Other importante special characther: '?', '*', '+', '.', '^', '$', '\\'\n",
    "\n",
    "- Pattern: T?he  -> Match: The or he (left character from '?' is optional)\n",
    "- Pattern: aa*h! -> Match: ah!, aah!, aaaaaaaaaaaah! (left character from '*' 0 or more times)\n",
    "- Pattern: o+h!  -> Match: oh!, ooh!, ooooooooooooh! (left character from '+' 1 or more times)\n",
    "- Pattern: M.!   -> Match: Ma!, Mb!, Mc!, ... (Any characther)\n",
    "- '^' outside square brackets means the beggining of a line.\n",
    "- '$' means the end of a line.\n",
    "- '\\' means that the right character is not special. So you can use \\. to match a period '.' and not any character.\n",
    "\n",
    "- {n} means n ocurrences of the previous character or expression.\n",
    "- {n, m} from n to m occurrences of the previous char or expression.\n",
    "- {n, } at least n occurrences of the previous char or expression.\n",
    "- \\n a newline\n",
    "- \\t a tab\n",
    "- \\d any digit\n",
    "- \\D any non-digit\n",
    "- \\w any alphanumeric or underscore = [a-zA-Z0-9_]\n",
    "- \\W a non-alphanumeric = [^\\w]\n",
    "- \\s whitespace(space, tab) = [ \\t\\n\\r\\f\\v]\n",
    "- \\S Non-whitespace = [^\\s]"
   ]
  },
  {
   "cell_type": "markdown",
   "id": "c11c9c8f",
   "metadata": {},
   "source": []
  }
 ],
 "metadata": {
  "kernelspec": {
   "display_name": "Python 3 (ipykernel)",
   "language": "python",
   "name": "python3"
  },
  "language_info": {
   "codemirror_mode": {
    "name": "ipython",
    "version": 3
   },
   "file_extension": ".py",
   "mimetype": "text/x-python",
   "name": "python",
   "nbconvert_exporter": "python",
   "pygments_lexer": "ipython3",
   "version": "3.9.10"
  }
 },
 "nbformat": 4,
 "nbformat_minor": 5
}
